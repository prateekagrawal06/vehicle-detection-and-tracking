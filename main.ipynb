{
 "cells": [
  {
   "cell_type": "code",
   "execution_count": null,
   "metadata": {},
   "outputs": [],
   "source": [
    "import matplotlib.image as mpimg\n",
    "import matplotlib.pyplot as plt\n",
    "import numpy as np\n",
    "import cv2\n",
    "import glob\n",
    "import os\n",
    "from skimage.feature import hog\n",
    "%matplotlib inline\n",
    "\n",
    "vehical_image = \"vehicles/\"\n",
    "non_vehical_images = \"non-vehicles/\"\n",
    "COLOR_SPEC='HSV'\n",
    "SIZE=(32,32)\n",
    "NBINS=32\n",
    "ORIENT=9\n",
    "PIX_PER_CELL=8\n",
    "CELL_PER_BLOCK=2\n",
    "\n",
    "\n",
    "\n"
   ]
  },
  {
   "cell_type": "code",
   "execution_count": null,
   "metadata": {},
   "outputs": [],
   "source": [
    "#function to compute color histogram features  \n",
    "def color_hist(img, nbins=32, bins_range=(0, 256)):\n",
    "    # Compute the histogram of the RGB channels separately\n",
    "    channel1_hist = np.histogram(img[:,:,0], bins=nbins, range=bins_range)\n",
    "    channel2_hist = np.histogram(img[:,:,1], bins=nbins, range=bins_range)\n",
    "    channel3_hist = np.histogram(img[:,:,2], bins=nbins, range=bins_range)\n",
    "    hist_features = np.concatenate((channel1_hist[0], channel2_hist[0], channel3_hist[0]))\n",
    "    # Return the individual histograms, bin_centers and feature vector\n",
    "    return hist_features\n",
    "    \n"
   ]
  },
  {
   "cell_type": "code",
   "execution_count": null,
   "metadata": {},
   "outputs": [],
   "source": [
    "# function to change the size of an image and unravel it\n",
    "def bin_spatial(img, size=(32, 32)):\n",
    "    features = cv2.resize(img, size).ravel() \n",
    "    # Return the feature vector\n",
    "    return features"
   ]
  },
  {
   "cell_type": "code",
   "execution_count": null,
   "metadata": {},
   "outputs": [],
   "source": [
    "# function to change the color spec of the image and return the new image \n",
    "def change_color_spec(img, color_space='RGB'):\n",
    "    if color_space != 'RGB':\n",
    "        if color_space == 'HSV':\n",
    "            feature_image = cv2.cvtColor(img, cv2.COLOR_RGB2HSV)\n",
    "        elif color_space == 'LUV':\n",
    "            feature_image = cv2.cvtColor(img, cv2.COLOR_RGB2LUV)\n",
    "        elif color_space == 'HLS':\n",
    "            feature_image = cv2.cvtColor(img, cv2.COLOR_RGB2HLS)\n",
    "        elif color_space == 'YUV':\n",
    "            feature_image = cv2.cvtColor(img, cv2.COLOR_RGB2YUV)\n",
    "        elif color_space == 'YCrCb':\n",
    "            feature_image = cv2.cvtColor(img, cv2.COLOR_RGB2YCrCb)\n",
    "    else: \n",
    "        feature_image = np.copy(img) \n",
    "    return feature_image"
   ]
  },
  {
   "cell_type": "code",
   "execution_count": null,
   "metadata": {},
   "outputs": [],
   "source": [
    "# function to return HOG features and visualization\n",
    "def get_hog_features(img, orient, pix_per_cell, cell_per_block, vis=False, feature_vec=True):\n",
    "    if vis == True:\n",
    "        features, hog_image = hog(img, orientations=orient, pixels_per_cell=(pix_per_cell, pix_per_cell),\n",
    "                                  cells_per_block=(cell_per_block, cell_per_block), transform_sqrt=False, \n",
    "                                  visualise=True, feature_vector=False, block_norm=\"L2-Hys\")\n",
    "        return features, hog_image\n",
    "    else:      \n",
    "        features = hog(img, orientations=orient, pixels_per_cell=(pix_per_cell, pix_per_cell),\n",
    "                       cells_per_block=(cell_per_block, cell_per_block), transform_sqrt=False, \n",
    "                       visualise=False, feature_vector=feature_vec, block_norm=\"L2-Hys\")\n",
    "        return features"
   ]
  },
  {
   "cell_type": "code",
   "execution_count": null,
   "metadata": {},
   "outputs": [],
   "source": [
    "def extract_features(img_path_list):\n",
    "    feature_list = []\n",
    "    for img_path in img_path_list:\n",
    "        # read the image\n",
    "        img = mpimg.imread(img_path)\n",
    "        # change the color spec of the image\n",
    "        colored_img = change_color_spec(img, color_space=COLOR_SPEC)\n",
    "        # compute the spatial features\n",
    "        bin_spatial_features = bin_spatial(colored_img, size=SIZE)\n",
    "        # compute the hist feature across all the color channels\n",
    "        color_hist_features = color_hist(colored_img, nbins=NBINS, bins_range=(0, 256))\n",
    "        \n",
    "        hog_features = get_hog_features(cv2.cvtColor(img, cv2.COLOR_RGB2GRAY), orient=ORIENT, pix_per_cell=PIX_PER_CELL,\n",
    "                                       cell_per_block=CELL_PER_BLOCK, vis=False, feature_vec=True)\n",
    "        \n",
    "        feature_list.append(np.concatenate((bin_spatial_features,color_hist_features, hog_features)))\n",
    "        \n",
    "        \n",
    "    return(feature_list)\n",
    "        \n",
    "\n",
    "    "
   ]
  },
  {
   "cell_type": "code",
   "execution_count": null,
   "metadata": {},
   "outputs": [],
   "source": [
    "# function to return some characteristics of the dataset \n",
    "def data_look(car_list, notcar_list):\n",
    "    data_dict = {}\n",
    "    # Define a key in data_dict \"n_cars\" and store the number of car images\n",
    "    data_dict[\"n_cars\"] = len(car_list)\n",
    "    # Define a key \"n_notcars\" and store the number of notcar images\n",
    "    data_dict[\"n_notcars\"] = len(notcar_list)\n",
    "    # Read in a test image, either car or notcar\n",
    "    example_img = mpimg.imread(car_list[0])\n",
    "    # Define a key \"image_shape\" and store the test image shape 3-tuple\n",
    "    data_dict[\"image_shape\"] = example_img.shape\n",
    "    # Define a key \"data_type\" and store the data type of the test image.\n",
    "    data_dict[\"data_type\"] = example_img.dtype\n",
    "    # Return data_dict\n",
    "    return data_dict"
   ]
  },
  {
   "cell_type": "code",
   "execution_count": null,
   "metadata": {
    "scrolled": false
   },
   "outputs": [],
   "source": [
    "cars = []\n",
    "notcars = []\n",
    "\n",
    "for subpath, subdirs, img_files in os.walk(vehical_image):\n",
    "    for name in img_files:\n",
    "        if name.endswith(\".png\"):\n",
    "            cars.append(os.path.join(subpath, name))\n",
    "            \n",
    "for subpath, subdirs, img_files in os.walk(non_vehical_images):\n",
    "    for name in img_files:\n",
    "        if name.endswith(\".png\"):\n",
    "            notcars.append(os.path.join(subpath, name))\n",
    "    \n",
    "data_info = data_look(cars, notcars)\n",
    "\n",
    "print('Your function returned a count of', labels = [1 for _ in len(car_features)].extend([0 for _ in len(not_car_features)])\n",
    "      data_info[\"n_cars\"], ' cars and', \n",
    "      data_info[\"n_notcars\"], ' non-cars')\n",
    "print('of size: ',data_info[\"image_shape\"], ' and data type:', \n",
    "      data_info[\"data_type\"])\n",
    "\n",
    "car_features = extract_features(cars)\n",
    "not_car_features = extract_features(notcars)\n",
    "\n",
    "features = np.vstack((car_features,not_car_features))\n",
    "labels = []\n",
    "for _ in range(len(cars)):\n",
    "    labels.append(1)\n",
    "\n",
    "for _ in range(len(notcars)):\n",
    "    labels.append(0)\n",
    "\n",
    "labels = np.array(lables)\n",
    "    \n",
    "    \n",
    "    \n",
    "    "
   ]
  },
  {
   "cell_type": "code",
   "execution_count": null,
   "metadata": {},
   "outputs": [],
   "source": []
  },
  {
   "cell_type": "code",
   "execution_count": null,
   "metadata": {},
   "outputs": [],
   "source": []
  },
  {
   "cell_type": "code",
   "execution_count": null,
   "metadata": {},
   "outputs": [],
   "source": []
  },
  {
   "cell_type": "code",
   "execution_count": null,
   "metadata": {},
   "outputs": [],
   "source": [
    "fig = plt.figure(figsize=(12,3))\n",
    "    plt.subplot(131)\n",
    "    plt.bar(bincen, rh[0])\n",
    "    plt.xlim(0, 256)\n",
    "    plt.title('R Histogram')\n",
    "    plt.subplot(132)\n",
    "    plt.bar(bincen, gh[0])\n",
    "    plt.xlim(0, 256)\n",
    "    plt.title('G Histogram')\n",
    "    plt.subplot(133)\n",
    "    plt.bar(bincen, bh[0])\n",
    "    plt.xlim(0, 256)\n",
    "    plt.title('B Histogram')\n",
    "    fig.tight_layout()"
   ]
  }
 ],
 "metadata": {
  "kernelspec": {
   "display_name": "Python 3",
   "language": "python",
   "name": "python3"
  },
  "language_info": {
   "codemirror_mode": {
    "name": "ipython",
    "version": 3
   },
   "file_extension": ".py",
   "mimetype": "text/x-python",
   "name": "python",
   "nbconvert_exporter": "python",
   "pygments_lexer": "ipython3",
   "version": "3.4.5"
  }
 },
 "nbformat": 4,
 "nbformat_minor": 2
}
